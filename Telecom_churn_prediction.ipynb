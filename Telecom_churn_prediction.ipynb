{
  "nbformat": 4,
  "nbformat_minor": 0,
  "metadata": {
    "kernelspec": {
      "display_name": "Python 3",
      "language": "python",
      "name": "python3"
    },
    "language_info": {
      "codemirror_mode": {
        "name": "ipython",
        "version": 3
      },
      "file_extension": ".py",
      "mimetype": "text/x-python",
      "name": "python",
      "nbconvert_exporter": "python",
      "pygments_lexer": "ipython3",
      "version": "3.7.1"
    },
    "colab": {
      "name": "Telecom churn prediction.ipynb",
      "provenance": [],
      "collapsed_sections": [],
      "include_colab_link": true
    }
  },
  "cells": [
    {
      "cell_type": "markdown",
      "metadata": {
        "id": "view-in-github",
        "colab_type": "text"
      },
      "source": [
        "<a href=\"https://colab.research.google.com/github/gupta4327/telecomChurnPredictionmodel/blob/main/Telecom_churn_prediction.ipynb\" target=\"_parent\"><img src=\"https://colab.research.google.com/assets/colab-badge.svg\" alt=\"Open In Colab\"/></a>"
      ]
    },
    {
      "cell_type": "markdown",
      "metadata": {
        "id": "PYsTFWXYjCxF"
      },
      "source": [
        "# <u><b> Objective </b></u>\n",
        "## <b>To predict the whether a customer will churn or not, based on the variables available in the Telco customer churn data. </b>\n",
        "\n"
      ]
    },
    {
      "cell_type": "code",
      "metadata": {
        "id": "Ah_20SDKV7Ao"
      },
      "source": [
        "#importing all necessary libraries and modules\n",
        "import numpy as np\n",
        "import pandas as pd\n",
        "from matplotlib import pyplot as plt\n",
        "from sklearn.linear_model import LogisticRegression \n",
        "from sklearn.model_selection import train_test_split\n",
        "from sklearn.metrics import accuracy_score,confusion_matrix,classification_report,roc_curve,auc\n",
        "from sklearn.preprocessing import StandardScaler\n",
        "import math\n",
        "import seaborn as sns\n",
        "import warnings\n",
        "warnings.filterwarnings('ignore')"
      ],
      "execution_count": null,
      "outputs": []
    },
    {
      "cell_type": "code",
      "source": [
        "#mounting a google drive \n",
        "from google.colab import drive\n",
        "drive.mount('/content/drive')"
      ],
      "metadata": {
        "colab": {
          "base_uri": "https://localhost:8080/"
        },
        "id": "cIY9_58t6MtT",
        "outputId": "83deeb49-96f1-4316-c589-30b36751ac23"
      },
      "execution_count": null,
      "outputs": [
        {
          "output_type": "stream",
          "name": "stdout",
          "text": [
            "Drive already mounted at /content/drive; to attempt to forcibly remount, call drive.mount(\"/content/drive\", force_remount=True).\n"
          ]
        }
      ]
    },
    {
      "cell_type": "code",
      "source": [
        "#reading a csv file of dataset \n",
        "file_path = '/content/drive/MyDrive/Colab Notebooks/pandas/dat/Telco-Customer-Churn.csv'\n",
        "dataset = pd.read_csv(file_path)"
      ],
      "metadata": {
        "id": "RWMKmEZC5vOK"
      },
      "execution_count": null,
      "outputs": []
    },
    {
      "cell_type": "code",
      "source": [
        "#to visualize first 5 observations \n",
        "dataset.head()"
      ],
      "metadata": {
        "colab": {
          "base_uri": "https://localhost:8080/",
          "height": 357
        },
        "id": "nAw8zmqG6oXK",
        "outputId": "1a534538-c54e-447a-c547-0f391e595623"
      },
      "execution_count": null,
      "outputs": [
        {
          "output_type": "execute_result",
          "data": {
            "text/html": [
              "\n",
              "  <div id=\"df-050c292f-0971-4aac-b83f-64124f9a99dd\">\n",
              "    <div class=\"colab-df-container\">\n",
              "      <div>\n",
              "<style scoped>\n",
              "    .dataframe tbody tr th:only-of-type {\n",
              "        vertical-align: middle;\n",
              "    }\n",
              "\n",
              "    .dataframe tbody tr th {\n",
              "        vertical-align: top;\n",
              "    }\n",
              "\n",
              "    .dataframe thead th {\n",
              "        text-align: right;\n",
              "    }\n",
              "</style>\n",
              "<table border=\"1\" class=\"dataframe\">\n",
              "  <thead>\n",
              "    <tr style=\"text-align: right;\">\n",
              "      <th></th>\n",
              "      <th>customerID</th>\n",
              "      <th>gender</th>\n",
              "      <th>SeniorCitizen</th>\n",
              "      <th>Partner</th>\n",
              "      <th>Dependents</th>\n",
              "      <th>tenure</th>\n",
              "      <th>PhoneService</th>\n",
              "      <th>MultipleLines</th>\n",
              "      <th>InternetService</th>\n",
              "      <th>OnlineSecurity</th>\n",
              "      <th>OnlineBackup</th>\n",
              "      <th>DeviceProtection</th>\n",
              "      <th>TechSupport</th>\n",
              "      <th>StreamingTV</th>\n",
              "      <th>StreamingMovies</th>\n",
              "      <th>Contract</th>\n",
              "      <th>PaperlessBilling</th>\n",
              "      <th>PaymentMethod</th>\n",
              "      <th>MonthlyCharges</th>\n",
              "      <th>TotalCharges</th>\n",
              "      <th>Churn</th>\n",
              "    </tr>\n",
              "  </thead>\n",
              "  <tbody>\n",
              "    <tr>\n",
              "      <th>0</th>\n",
              "      <td>7590-VHVEG</td>\n",
              "      <td>Female</td>\n",
              "      <td>0</td>\n",
              "      <td>Yes</td>\n",
              "      <td>No</td>\n",
              "      <td>1</td>\n",
              "      <td>No</td>\n",
              "      <td>No phone service</td>\n",
              "      <td>DSL</td>\n",
              "      <td>No</td>\n",
              "      <td>Yes</td>\n",
              "      <td>No</td>\n",
              "      <td>No</td>\n",
              "      <td>No</td>\n",
              "      <td>No</td>\n",
              "      <td>Month-to-month</td>\n",
              "      <td>Yes</td>\n",
              "      <td>Electronic check</td>\n",
              "      <td>29.85</td>\n",
              "      <td>29.85</td>\n",
              "      <td>No</td>\n",
              "    </tr>\n",
              "    <tr>\n",
              "      <th>1</th>\n",
              "      <td>5575-GNVDE</td>\n",
              "      <td>Male</td>\n",
              "      <td>0</td>\n",
              "      <td>No</td>\n",
              "      <td>No</td>\n",
              "      <td>34</td>\n",
              "      <td>Yes</td>\n",
              "      <td>No</td>\n",
              "      <td>DSL</td>\n",
              "      <td>Yes</td>\n",
              "      <td>No</td>\n",
              "      <td>Yes</td>\n",
              "      <td>No</td>\n",
              "      <td>No</td>\n",
              "      <td>No</td>\n",
              "      <td>One year</td>\n",
              "      <td>No</td>\n",
              "      <td>Mailed check</td>\n",
              "      <td>56.95</td>\n",
              "      <td>1889.5</td>\n",
              "      <td>No</td>\n",
              "    </tr>\n",
              "    <tr>\n",
              "      <th>2</th>\n",
              "      <td>3668-QPYBK</td>\n",
              "      <td>Male</td>\n",
              "      <td>0</td>\n",
              "      <td>No</td>\n",
              "      <td>No</td>\n",
              "      <td>2</td>\n",
              "      <td>Yes</td>\n",
              "      <td>No</td>\n",
              "      <td>DSL</td>\n",
              "      <td>Yes</td>\n",
              "      <td>Yes</td>\n",
              "      <td>No</td>\n",
              "      <td>No</td>\n",
              "      <td>No</td>\n",
              "      <td>No</td>\n",
              "      <td>Month-to-month</td>\n",
              "      <td>Yes</td>\n",
              "      <td>Mailed check</td>\n",
              "      <td>53.85</td>\n",
              "      <td>108.15</td>\n",
              "      <td>Yes</td>\n",
              "    </tr>\n",
              "    <tr>\n",
              "      <th>3</th>\n",
              "      <td>7795-CFOCW</td>\n",
              "      <td>Male</td>\n",
              "      <td>0</td>\n",
              "      <td>No</td>\n",
              "      <td>No</td>\n",
              "      <td>45</td>\n",
              "      <td>No</td>\n",
              "      <td>No phone service</td>\n",
              "      <td>DSL</td>\n",
              "      <td>Yes</td>\n",
              "      <td>No</td>\n",
              "      <td>Yes</td>\n",
              "      <td>Yes</td>\n",
              "      <td>No</td>\n",
              "      <td>No</td>\n",
              "      <td>One year</td>\n",
              "      <td>No</td>\n",
              "      <td>Bank transfer (automatic)</td>\n",
              "      <td>42.30</td>\n",
              "      <td>1840.75</td>\n",
              "      <td>No</td>\n",
              "    </tr>\n",
              "    <tr>\n",
              "      <th>4</th>\n",
              "      <td>9237-HQITU</td>\n",
              "      <td>Female</td>\n",
              "      <td>0</td>\n",
              "      <td>No</td>\n",
              "      <td>No</td>\n",
              "      <td>2</td>\n",
              "      <td>Yes</td>\n",
              "      <td>No</td>\n",
              "      <td>Fiber optic</td>\n",
              "      <td>No</td>\n",
              "      <td>No</td>\n",
              "      <td>No</td>\n",
              "      <td>No</td>\n",
              "      <td>No</td>\n",
              "      <td>No</td>\n",
              "      <td>Month-to-month</td>\n",
              "      <td>Yes</td>\n",
              "      <td>Electronic check</td>\n",
              "      <td>70.70</td>\n",
              "      <td>151.65</td>\n",
              "      <td>Yes</td>\n",
              "    </tr>\n",
              "  </tbody>\n",
              "</table>\n",
              "</div>\n",
              "      <button class=\"colab-df-convert\" onclick=\"convertToInteractive('df-050c292f-0971-4aac-b83f-64124f9a99dd')\"\n",
              "              title=\"Convert this dataframe to an interactive table.\"\n",
              "              style=\"display:none;\">\n",
              "        \n",
              "  <svg xmlns=\"http://www.w3.org/2000/svg\" height=\"24px\"viewBox=\"0 0 24 24\"\n",
              "       width=\"24px\">\n",
              "    <path d=\"M0 0h24v24H0V0z\" fill=\"none\"/>\n",
              "    <path d=\"M18.56 5.44l.94 2.06.94-2.06 2.06-.94-2.06-.94-.94-2.06-.94 2.06-2.06.94zm-11 1L8.5 8.5l.94-2.06 2.06-.94-2.06-.94L8.5 2.5l-.94 2.06-2.06.94zm10 10l.94 2.06.94-2.06 2.06-.94-2.06-.94-.94-2.06-.94 2.06-2.06.94z\"/><path d=\"M17.41 7.96l-1.37-1.37c-.4-.4-.92-.59-1.43-.59-.52 0-1.04.2-1.43.59L10.3 9.45l-7.72 7.72c-.78.78-.78 2.05 0 2.83L4 21.41c.39.39.9.59 1.41.59.51 0 1.02-.2 1.41-.59l7.78-7.78 2.81-2.81c.8-.78.8-2.07 0-2.86zM5.41 20L4 18.59l7.72-7.72 1.47 1.35L5.41 20z\"/>\n",
              "  </svg>\n",
              "      </button>\n",
              "      \n",
              "  <style>\n",
              "    .colab-df-container {\n",
              "      display:flex;\n",
              "      flex-wrap:wrap;\n",
              "      gap: 12px;\n",
              "    }\n",
              "\n",
              "    .colab-df-convert {\n",
              "      background-color: #E8F0FE;\n",
              "      border: none;\n",
              "      border-radius: 50%;\n",
              "      cursor: pointer;\n",
              "      display: none;\n",
              "      fill: #1967D2;\n",
              "      height: 32px;\n",
              "      padding: 0 0 0 0;\n",
              "      width: 32px;\n",
              "    }\n",
              "\n",
              "    .colab-df-convert:hover {\n",
              "      background-color: #E2EBFA;\n",
              "      box-shadow: 0px 1px 2px rgba(60, 64, 67, 0.3), 0px 1px 3px 1px rgba(60, 64, 67, 0.15);\n",
              "      fill: #174EA6;\n",
              "    }\n",
              "\n",
              "    [theme=dark] .colab-df-convert {\n",
              "      background-color: #3B4455;\n",
              "      fill: #D2E3FC;\n",
              "    }\n",
              "\n",
              "    [theme=dark] .colab-df-convert:hover {\n",
              "      background-color: #434B5C;\n",
              "      box-shadow: 0px 1px 3px 1px rgba(0, 0, 0, 0.15);\n",
              "      filter: drop-shadow(0px 1px 2px rgba(0, 0, 0, 0.3));\n",
              "      fill: #FFFFFF;\n",
              "    }\n",
              "  </style>\n",
              "\n",
              "      <script>\n",
              "        const buttonEl =\n",
              "          document.querySelector('#df-050c292f-0971-4aac-b83f-64124f9a99dd button.colab-df-convert');\n",
              "        buttonEl.style.display =\n",
              "          google.colab.kernel.accessAllowed ? 'block' : 'none';\n",
              "\n",
              "        async function convertToInteractive(key) {\n",
              "          const element = document.querySelector('#df-050c292f-0971-4aac-b83f-64124f9a99dd');\n",
              "          const dataTable =\n",
              "            await google.colab.kernel.invokeFunction('convertToInteractive',\n",
              "                                                     [key], {});\n",
              "          if (!dataTable) return;\n",
              "\n",
              "          const docLinkHtml = 'Like what you see? Visit the ' +\n",
              "            '<a target=\"_blank\" href=https://colab.research.google.com/notebooks/data_table.ipynb>data table notebook</a>'\n",
              "            + ' to learn more about interactive tables.';\n",
              "          element.innerHTML = '';\n",
              "          dataTable['output_type'] = 'display_data';\n",
              "          await google.colab.output.renderOutput(dataTable, element);\n",
              "          const docLink = document.createElement('div');\n",
              "          docLink.innerHTML = docLinkHtml;\n",
              "          element.appendChild(docLink);\n",
              "        }\n",
              "      </script>\n",
              "    </div>\n",
              "  </div>\n",
              "  "
            ],
            "text/plain": [
              "   customerID  gender  SeniorCitizen  ... MonthlyCharges TotalCharges  Churn\n",
              "0  7590-VHVEG  Female              0  ...          29.85        29.85     No\n",
              "1  5575-GNVDE    Male              0  ...          56.95       1889.5     No\n",
              "2  3668-QPYBK    Male              0  ...          53.85       108.15    Yes\n",
              "3  7795-CFOCW    Male              0  ...          42.30      1840.75     No\n",
              "4  9237-HQITU  Female              0  ...          70.70       151.65    Yes\n",
              "\n",
              "[5 rows x 21 columns]"
            ]
          },
          "metadata": {},
          "execution_count": 100
        }
      ]
    },
    {
      "cell_type": "markdown",
      "source": [
        "***Data Dictionary***\n",
        "\n",
        "1.   *Gender - Its self explanatory whether the end user is male or female.*\n",
        "\n",
        "2.   *Senior Citizen - Whether a end user is senior citizen or not.*\n",
        " \n",
        "3.   *Partner - Whether a user is single or they have partner(Married/live-in)*\n",
        "\n",
        "4.   *Dependents - If user has any dependents(yes or no)*\n",
        "\n",
        "5. *Tenure - Time period/years for which is user is using the service*\n",
        "\n",
        "6. *Phone Service - If user is also using phone services or only internet services*\n",
        "\n",
        "7. *Multiple Lines - Whether the user has multple lines or not(Yes, No or No Phone Service)*\n",
        "\n",
        "8. *Internet Service - Method/ Kind of internet service user is using(DSL, Fibre optic,No)*\n",
        "\n",
        "9. *OnlineSecurity - Customer has opted fore online secutrity or not(Yes or No)*\n",
        "\n",
        "10. *OnlineBackUp - Customer has choosen onlineback up or n ot(Yes or No)*\n",
        "\n",
        "11. *DeviceProtection - Customer has device protection or not (Yes or No)*\n",
        "\n",
        "12. *TechSupport - If customer has taken the help of Tech Support* \n",
        "\n",
        "13. *Streaming TV - If customer has opted for TV streaming option* \n",
        "\n",
        "14. *Streaming Movies - If customer has opted for movie streaming option*\n",
        "\n",
        "15. *Contract - User has choosen a year or mponth to month or two tear contract.*\n",
        "\n",
        "16. *Paperless billing - If a customer have paperless billing or not (yes or no)*\n",
        "\n",
        "17. *Payment method - Payment method customer uses - electronic check, mailed check, bank transfer or credit card*\n",
        "\n",
        "18. *Monthly Charges - Monthly charge that a user is paying* \n",
        "\n",
        "19. *Total charges - Total charge thst a customer has paid till now.*\n",
        "\n",
        "20. *Churn - Whether the customer has chuirn or not*\n",
        "\n",
        "\n",
        "\n",
        "\n"
      ],
      "metadata": {
        "id": "3zhvxZhawAOf"
      }
    },
    {
      "cell_type": "code",
      "source": [
        "# basic information of features in dataset \n",
        "dataset.info()"
      ],
      "metadata": {
        "colab": {
          "base_uri": "https://localhost:8080/"
        },
        "id": "P5a59HRh6q0t",
        "outputId": "0e8c813c-68a8-429d-bde6-43c0c8e55a57"
      },
      "execution_count": null,
      "outputs": [
        {
          "output_type": "stream",
          "name": "stdout",
          "text": [
            "<class 'pandas.core.frame.DataFrame'>\n",
            "RangeIndex: 7043 entries, 0 to 7042\n",
            "Data columns (total 21 columns):\n",
            " #   Column            Non-Null Count  Dtype  \n",
            "---  ------            --------------  -----  \n",
            " 0   customerID        7043 non-null   object \n",
            " 1   gender            7043 non-null   object \n",
            " 2   SeniorCitizen     7043 non-null   int64  \n",
            " 3   Partner           7043 non-null   object \n",
            " 4   Dependents        7043 non-null   object \n",
            " 5   tenure            7043 non-null   int64  \n",
            " 6   PhoneService      7043 non-null   object \n",
            " 7   MultipleLines     7043 non-null   object \n",
            " 8   InternetService   7043 non-null   object \n",
            " 9   OnlineSecurity    7043 non-null   object \n",
            " 10  OnlineBackup      7043 non-null   object \n",
            " 11  DeviceProtection  7043 non-null   object \n",
            " 12  TechSupport       7043 non-null   object \n",
            " 13  StreamingTV       7043 non-null   object \n",
            " 14  StreamingMovies   7043 non-null   object \n",
            " 15  Contract          7043 non-null   object \n",
            " 16  PaperlessBilling  7043 non-null   object \n",
            " 17  PaymentMethod     7043 non-null   object \n",
            " 18  MonthlyCharges    7043 non-null   float64\n",
            " 19  TotalCharges      7043 non-null   object \n",
            " 20  Churn             7043 non-null   object \n",
            "dtypes: float64(1), int64(2), object(18)\n",
            "memory usage: 1.1+ MB\n"
          ]
        }
      ]
    },
    {
      "cell_type": "code",
      "source": [
        "# checking for null values \n",
        "dataset.isnull().sum()"
      ],
      "metadata": {
        "colab": {
          "base_uri": "https://localhost:8080/"
        },
        "id": "VMcIA15QFNxS",
        "outputId": "431d6ba0-edb5-402f-ea77-85b4ebfc8497"
      },
      "execution_count": null,
      "outputs": [
        {
          "output_type": "execute_result",
          "data": {
            "text/plain": [
              "customerID          0\n",
              "gender              0\n",
              "SeniorCitizen       0\n",
              "Partner             0\n",
              "Dependents          0\n",
              "tenure              0\n",
              "PhoneService        0\n",
              "MultipleLines       0\n",
              "InternetService     0\n",
              "OnlineSecurity      0\n",
              "OnlineBackup        0\n",
              "DeviceProtection    0\n",
              "TechSupport         0\n",
              "StreamingTV         0\n",
              "StreamingMovies     0\n",
              "Contract            0\n",
              "PaperlessBilling    0\n",
              "PaymentMethod       0\n",
              "MonthlyCharges      0\n",
              "TotalCharges        0\n",
              "Churn               0\n",
              "dtype: int64"
            ]
          },
          "metadata": {},
          "execution_count": 102
        }
      ]
    },
    {
      "cell_type": "markdown",
      "source": [
        "*so there are no null values in our dataset. Time to look for duplicates*"
      ],
      "metadata": {
        "id": "ikRfa0uvFprl"
      }
    },
    {
      "cell_type": "code",
      "source": [
        "#finding no. of duplicate rows\n",
        "len(dataset[dataset.duplicated()])"
      ],
      "metadata": {
        "colab": {
          "base_uri": "https://localhost:8080/"
        },
        "id": "YUpuc63U7hs_",
        "outputId": "c28c2614-66f3-4844-9eab-9bcf7fc6075a"
      },
      "execution_count": null,
      "outputs": [
        {
          "output_type": "execute_result",
          "data": {
            "text/plain": [
              "0"
            ]
          },
          "metadata": {},
          "execution_count": 103
        }
      ]
    },
    {
      "cell_type": "markdown",
      "source": [
        "*No duplicate rows are there*"
      ],
      "metadata": {
        "id": "UN8SrGS77tNf"
      }
    },
    {
      "cell_type": "code",
      "source": [
        "# for checking descriptive stats info of data \n",
        "dataset.describe()"
      ],
      "metadata": {
        "colab": {
          "base_uri": "https://localhost:8080/",
          "height": 300
        },
        "id": "APyJ73LRGH9e",
        "outputId": "1f7d0a2e-89e2-4268-9f11-f6b0866355aa"
      },
      "execution_count": null,
      "outputs": [
        {
          "output_type": "execute_result",
          "data": {
            "text/html": [
              "\n",
              "  <div id=\"df-9227c982-84ab-450e-a7a9-32649872feca\">\n",
              "    <div class=\"colab-df-container\">\n",
              "      <div>\n",
              "<style scoped>\n",
              "    .dataframe tbody tr th:only-of-type {\n",
              "        vertical-align: middle;\n",
              "    }\n",
              "\n",
              "    .dataframe tbody tr th {\n",
              "        vertical-align: top;\n",
              "    }\n",
              "\n",
              "    .dataframe thead th {\n",
              "        text-align: right;\n",
              "    }\n",
              "</style>\n",
              "<table border=\"1\" class=\"dataframe\">\n",
              "  <thead>\n",
              "    <tr style=\"text-align: right;\">\n",
              "      <th></th>\n",
              "      <th>SeniorCitizen</th>\n",
              "      <th>tenure</th>\n",
              "      <th>MonthlyCharges</th>\n",
              "    </tr>\n",
              "  </thead>\n",
              "  <tbody>\n",
              "    <tr>\n",
              "      <th>count</th>\n",
              "      <td>7043.000000</td>\n",
              "      <td>7043.000000</td>\n",
              "      <td>7043.000000</td>\n",
              "    </tr>\n",
              "    <tr>\n",
              "      <th>mean</th>\n",
              "      <td>0.162147</td>\n",
              "      <td>32.371149</td>\n",
              "      <td>64.761692</td>\n",
              "    </tr>\n",
              "    <tr>\n",
              "      <th>std</th>\n",
              "      <td>0.368612</td>\n",
              "      <td>24.559481</td>\n",
              "      <td>30.090047</td>\n",
              "    </tr>\n",
              "    <tr>\n",
              "      <th>min</th>\n",
              "      <td>0.000000</td>\n",
              "      <td>0.000000</td>\n",
              "      <td>18.250000</td>\n",
              "    </tr>\n",
              "    <tr>\n",
              "      <th>25%</th>\n",
              "      <td>0.000000</td>\n",
              "      <td>9.000000</td>\n",
              "      <td>35.500000</td>\n",
              "    </tr>\n",
              "    <tr>\n",
              "      <th>50%</th>\n",
              "      <td>0.000000</td>\n",
              "      <td>29.000000</td>\n",
              "      <td>70.350000</td>\n",
              "    </tr>\n",
              "    <tr>\n",
              "      <th>75%</th>\n",
              "      <td>0.000000</td>\n",
              "      <td>55.000000</td>\n",
              "      <td>89.850000</td>\n",
              "    </tr>\n",
              "    <tr>\n",
              "      <th>max</th>\n",
              "      <td>1.000000</td>\n",
              "      <td>72.000000</td>\n",
              "      <td>118.750000</td>\n",
              "    </tr>\n",
              "  </tbody>\n",
              "</table>\n",
              "</div>\n",
              "      <button class=\"colab-df-convert\" onclick=\"convertToInteractive('df-9227c982-84ab-450e-a7a9-32649872feca')\"\n",
              "              title=\"Convert this dataframe to an interactive table.\"\n",
              "              style=\"display:none;\">\n",
              "        \n",
              "  <svg xmlns=\"http://www.w3.org/2000/svg\" height=\"24px\"viewBox=\"0 0 24 24\"\n",
              "       width=\"24px\">\n",
              "    <path d=\"M0 0h24v24H0V0z\" fill=\"none\"/>\n",
              "    <path d=\"M18.56 5.44l.94 2.06.94-2.06 2.06-.94-2.06-.94-.94-2.06-.94 2.06-2.06.94zm-11 1L8.5 8.5l.94-2.06 2.06-.94-2.06-.94L8.5 2.5l-.94 2.06-2.06.94zm10 10l.94 2.06.94-2.06 2.06-.94-2.06-.94-.94-2.06-.94 2.06-2.06.94z\"/><path d=\"M17.41 7.96l-1.37-1.37c-.4-.4-.92-.59-1.43-.59-.52 0-1.04.2-1.43.59L10.3 9.45l-7.72 7.72c-.78.78-.78 2.05 0 2.83L4 21.41c.39.39.9.59 1.41.59.51 0 1.02-.2 1.41-.59l7.78-7.78 2.81-2.81c.8-.78.8-2.07 0-2.86zM5.41 20L4 18.59l7.72-7.72 1.47 1.35L5.41 20z\"/>\n",
              "  </svg>\n",
              "      </button>\n",
              "      \n",
              "  <style>\n",
              "    .colab-df-container {\n",
              "      display:flex;\n",
              "      flex-wrap:wrap;\n",
              "      gap: 12px;\n",
              "    }\n",
              "\n",
              "    .colab-df-convert {\n",
              "      background-color: #E8F0FE;\n",
              "      border: none;\n",
              "      border-radius: 50%;\n",
              "      cursor: pointer;\n",
              "      display: none;\n",
              "      fill: #1967D2;\n",
              "      height: 32px;\n",
              "      padding: 0 0 0 0;\n",
              "      width: 32px;\n",
              "    }\n",
              "\n",
              "    .colab-df-convert:hover {\n",
              "      background-color: #E2EBFA;\n",
              "      box-shadow: 0px 1px 2px rgba(60, 64, 67, 0.3), 0px 1px 3px 1px rgba(60, 64, 67, 0.15);\n",
              "      fill: #174EA6;\n",
              "    }\n",
              "\n",
              "    [theme=dark] .colab-df-convert {\n",
              "      background-color: #3B4455;\n",
              "      fill: #D2E3FC;\n",
              "    }\n",
              "\n",
              "    [theme=dark] .colab-df-convert:hover {\n",
              "      background-color: #434B5C;\n",
              "      box-shadow: 0px 1px 3px 1px rgba(0, 0, 0, 0.15);\n",
              "      filter: drop-shadow(0px 1px 2px rgba(0, 0, 0, 0.3));\n",
              "      fill: #FFFFFF;\n",
              "    }\n",
              "  </style>\n",
              "\n",
              "      <script>\n",
              "        const buttonEl =\n",
              "          document.querySelector('#df-9227c982-84ab-450e-a7a9-32649872feca button.colab-df-convert');\n",
              "        buttonEl.style.display =\n",
              "          google.colab.kernel.accessAllowed ? 'block' : 'none';\n",
              "\n",
              "        async function convertToInteractive(key) {\n",
              "          const element = document.querySelector('#df-9227c982-84ab-450e-a7a9-32649872feca');\n",
              "          const dataTable =\n",
              "            await google.colab.kernel.invokeFunction('convertToInteractive',\n",
              "                                                     [key], {});\n",
              "          if (!dataTable) return;\n",
              "\n",
              "          const docLinkHtml = 'Like what you see? Visit the ' +\n",
              "            '<a target=\"_blank\" href=https://colab.research.google.com/notebooks/data_table.ipynb>data table notebook</a>'\n",
              "            + ' to learn more about interactive tables.';\n",
              "          element.innerHTML = '';\n",
              "          dataTable['output_type'] = 'display_data';\n",
              "          await google.colab.output.renderOutput(dataTable, element);\n",
              "          const docLink = document.createElement('div');\n",
              "          docLink.innerHTML = docLinkHtml;\n",
              "          element.appendChild(docLink);\n",
              "        }\n",
              "      </script>\n",
              "    </div>\n",
              "  </div>\n",
              "  "
            ],
            "text/plain": [
              "       SeniorCitizen       tenure  MonthlyCharges\n",
              "count    7043.000000  7043.000000     7043.000000\n",
              "mean        0.162147    32.371149       64.761692\n",
              "std         0.368612    24.559481       30.090047\n",
              "min         0.000000     0.000000       18.250000\n",
              "25%         0.000000     9.000000       35.500000\n",
              "50%         0.000000    29.000000       70.350000\n",
              "75%         0.000000    55.000000       89.850000\n",
              "max         1.000000    72.000000      118.750000"
            ]
          },
          "metadata": {},
          "execution_count": 104
        }
      ]
    },
    {
      "cell_type": "markdown",
      "source": [
        "*# If we check dataset.head and dataset.info, feature totalcharges shoud be of float type in actual but its of object type so we will converting it into float type*"
      ],
      "metadata": {
        "id": "M-RaHDJ0GsI8"
      }
    },
    {
      "cell_type": "code",
      "source": [
        "#checking for spaces value in Totalcharges column \n",
        "dataset[dataset['TotalCharges'] == ' '].shape"
      ],
      "metadata": {
        "colab": {
          "base_uri": "https://localhost:8080/"
        },
        "id": "mmTsfI2XHIse",
        "outputId": "f567caa9-81c7-41a0-f060-680beafccf4d"
      },
      "execution_count": null,
      "outputs": [
        {
          "output_type": "execute_result",
          "data": {
            "text/plain": [
              "(11, 21)"
            ]
          },
          "metadata": {},
          "execution_count": 105
        }
      ]
    },
    {
      "cell_type": "markdown",
      "source": [
        "*# Replacing space values with np.nan*"
      ],
      "metadata": {
        "id": "KrYmRb9xPc86"
      }
    },
    {
      "cell_type": "code",
      "source": [
        "#replacing null values \n",
        "dataset['TotalCharges'].replace({' ': np.nan}, inplace = True)"
      ],
      "metadata": {
        "id": "AfzsfvrgPlky"
      },
      "execution_count": null,
      "outputs": []
    },
    {
      "cell_type": "code",
      "source": [
        "#verifying removal of spaces \n",
        "dataset[dataset['TotalCharges'] == ' '].shape"
      ],
      "metadata": {
        "colab": {
          "base_uri": "https://localhost:8080/"
        },
        "id": "xIe7iyXUP0zl",
        "outputId": "568b36c6-02be-474a-949f-b123881f3f2e"
      },
      "execution_count": null,
      "outputs": [
        {
          "output_type": "execute_result",
          "data": {
            "text/plain": [
              "(0, 21)"
            ]
          },
          "metadata": {},
          "execution_count": 107
        }
      ]
    },
    {
      "cell_type": "markdown",
      "source": [
        "*# so now we have dealt with space values. Now we'll convert the feature into float type*"
      ],
      "metadata": {
        "id": "yfGQ7Pc8P6pI"
      }
    },
    {
      "cell_type": "code",
      "source": [
        "#converting into float type\n",
        "dataset['TotalCharges'] = dataset['TotalCharges'].astype('float64')"
      ],
      "metadata": {
        "id": "y_z2lUyjQFsq"
      },
      "execution_count": null,
      "outputs": []
    },
    {
      "cell_type": "code",
      "source": [
        "#percentage of null values in TotalCharges\n",
        "print('percent of Null values in TotalCharges : ', (dataset['TotalCharges'].isnull().sum()/dataset.shape[0])*100)"
      ],
      "metadata": {
        "colab": {
          "base_uri": "https://localhost:8080/"
        },
        "id": "kHKYpGduQi0K",
        "outputId": "53c8eb94-d2ee-434b-e013-9f80e5cbfacf"
      },
      "execution_count": null,
      "outputs": [
        {
          "output_type": "stream",
          "name": "stdout",
          "text": [
            "percent of Null values in TotalCharges :  0.1561834445548772\n"
          ]
        }
      ]
    },
    {
      "cell_type": "markdown",
      "source": [
        "*# As the percentage of null values is very minute just 0.15 percent so i'll go with dropping null values *"
      ],
      "metadata": {
        "id": "25IgHuWiRJMg"
      }
    },
    {
      "cell_type": "code",
      "source": [
        "#dropping null values\n",
        "dataset.dropna(inplace= True)"
      ],
      "metadata": {
        "id": "D6wzx1-FRiDR"
      },
      "execution_count": null,
      "outputs": []
    },
    {
      "cell_type": "markdown",
      "source": [
        "*# Now we'll visualize the stats table once again *"
      ],
      "metadata": {
        "id": "NcnYOcj_Rss7"
      }
    },
    {
      "cell_type": "code",
      "source": [
        "#descriptive stats info \n",
        "dataset.describe()"
      ],
      "metadata": {
        "colab": {
          "base_uri": "https://localhost:8080/",
          "height": 300
        },
        "id": "iM7A6cc4R23e",
        "outputId": "0bdaa539-0a26-45db-bd79-9ef2fa0d1413"
      },
      "execution_count": null,
      "outputs": [
        {
          "output_type": "execute_result",
          "data": {
            "text/html": [
              "\n",
              "  <div id=\"df-68587ef2-f97e-480c-871a-7dc3fe198af3\">\n",
              "    <div class=\"colab-df-container\">\n",
              "      <div>\n",
              "<style scoped>\n",
              "    .dataframe tbody tr th:only-of-type {\n",
              "        vertical-align: middle;\n",
              "    }\n",
              "\n",
              "    .dataframe tbody tr th {\n",
              "        vertical-align: top;\n",
              "    }\n",
              "\n",
              "    .dataframe thead th {\n",
              "        text-align: right;\n",
              "    }\n",
              "</style>\n",
              "<table border=\"1\" class=\"dataframe\">\n",
              "  <thead>\n",
              "    <tr style=\"text-align: right;\">\n",
              "      <th></th>\n",
              "      <th>SeniorCitizen</th>\n",
              "      <th>tenure</th>\n",
              "      <th>MonthlyCharges</th>\n",
              "      <th>TotalCharges</th>\n",
              "    </tr>\n",
              "  </thead>\n",
              "  <tbody>\n",
              "    <tr>\n",
              "      <th>count</th>\n",
              "      <td>7032.000000</td>\n",
              "      <td>7032.000000</td>\n",
              "      <td>7032.000000</td>\n",
              "      <td>7032.000000</td>\n",
              "    </tr>\n",
              "    <tr>\n",
              "      <th>mean</th>\n",
              "      <td>0.162400</td>\n",
              "      <td>32.421786</td>\n",
              "      <td>64.798208</td>\n",
              "      <td>2283.300441</td>\n",
              "    </tr>\n",
              "    <tr>\n",
              "      <th>std</th>\n",
              "      <td>0.368844</td>\n",
              "      <td>24.545260</td>\n",
              "      <td>30.085974</td>\n",
              "      <td>2266.771362</td>\n",
              "    </tr>\n",
              "    <tr>\n",
              "      <th>min</th>\n",
              "      <td>0.000000</td>\n",
              "      <td>1.000000</td>\n",
              "      <td>18.250000</td>\n",
              "      <td>18.800000</td>\n",
              "    </tr>\n",
              "    <tr>\n",
              "      <th>25%</th>\n",
              "      <td>0.000000</td>\n",
              "      <td>9.000000</td>\n",
              "      <td>35.587500</td>\n",
              "      <td>401.450000</td>\n",
              "    </tr>\n",
              "    <tr>\n",
              "      <th>50%</th>\n",
              "      <td>0.000000</td>\n",
              "      <td>29.000000</td>\n",
              "      <td>70.350000</td>\n",
              "      <td>1397.475000</td>\n",
              "    </tr>\n",
              "    <tr>\n",
              "      <th>75%</th>\n",
              "      <td>0.000000</td>\n",
              "      <td>55.000000</td>\n",
              "      <td>89.862500</td>\n",
              "      <td>3794.737500</td>\n",
              "    </tr>\n",
              "    <tr>\n",
              "      <th>max</th>\n",
              "      <td>1.000000</td>\n",
              "      <td>72.000000</td>\n",
              "      <td>118.750000</td>\n",
              "      <td>8684.800000</td>\n",
              "    </tr>\n",
              "  </tbody>\n",
              "</table>\n",
              "</div>\n",
              "      <button class=\"colab-df-convert\" onclick=\"convertToInteractive('df-68587ef2-f97e-480c-871a-7dc3fe198af3')\"\n",
              "              title=\"Convert this dataframe to an interactive table.\"\n",
              "              style=\"display:none;\">\n",
              "        \n",
              "  <svg xmlns=\"http://www.w3.org/2000/svg\" height=\"24px\"viewBox=\"0 0 24 24\"\n",
              "       width=\"24px\">\n",
              "    <path d=\"M0 0h24v24H0V0z\" fill=\"none\"/>\n",
              "    <path d=\"M18.56 5.44l.94 2.06.94-2.06 2.06-.94-2.06-.94-.94-2.06-.94 2.06-2.06.94zm-11 1L8.5 8.5l.94-2.06 2.06-.94-2.06-.94L8.5 2.5l-.94 2.06-2.06.94zm10 10l.94 2.06.94-2.06 2.06-.94-2.06-.94-.94-2.06-.94 2.06-2.06.94z\"/><path d=\"M17.41 7.96l-1.37-1.37c-.4-.4-.92-.59-1.43-.59-.52 0-1.04.2-1.43.59L10.3 9.45l-7.72 7.72c-.78.78-.78 2.05 0 2.83L4 21.41c.39.39.9.59 1.41.59.51 0 1.02-.2 1.41-.59l7.78-7.78 2.81-2.81c.8-.78.8-2.07 0-2.86zM5.41 20L4 18.59l7.72-7.72 1.47 1.35L5.41 20z\"/>\n",
              "  </svg>\n",
              "      </button>\n",
              "      \n",
              "  <style>\n",
              "    .colab-df-container {\n",
              "      display:flex;\n",
              "      flex-wrap:wrap;\n",
              "      gap: 12px;\n",
              "    }\n",
              "\n",
              "    .colab-df-convert {\n",
              "      background-color: #E8F0FE;\n",
              "      border: none;\n",
              "      border-radius: 50%;\n",
              "      cursor: pointer;\n",
              "      display: none;\n",
              "      fill: #1967D2;\n",
              "      height: 32px;\n",
              "      padding: 0 0 0 0;\n",
              "      width: 32px;\n",
              "    }\n",
              "\n",
              "    .colab-df-convert:hover {\n",
              "      background-color: #E2EBFA;\n",
              "      box-shadow: 0px 1px 2px rgba(60, 64, 67, 0.3), 0px 1px 3px 1px rgba(60, 64, 67, 0.15);\n",
              "      fill: #174EA6;\n",
              "    }\n",
              "\n",
              "    [theme=dark] .colab-df-convert {\n",
              "      background-color: #3B4455;\n",
              "      fill: #D2E3FC;\n",
              "    }\n",
              "\n",
              "    [theme=dark] .colab-df-convert:hover {\n",
              "      background-color: #434B5C;\n",
              "      box-shadow: 0px 1px 3px 1px rgba(0, 0, 0, 0.15);\n",
              "      filter: drop-shadow(0px 1px 2px rgba(0, 0, 0, 0.3));\n",
              "      fill: #FFFFFF;\n",
              "    }\n",
              "  </style>\n",
              "\n",
              "      <script>\n",
              "        const buttonEl =\n",
              "          document.querySelector('#df-68587ef2-f97e-480c-871a-7dc3fe198af3 button.colab-df-convert');\n",
              "        buttonEl.style.display =\n",
              "          google.colab.kernel.accessAllowed ? 'block' : 'none';\n",
              "\n",
              "        async function convertToInteractive(key) {\n",
              "          const element = document.querySelector('#df-68587ef2-f97e-480c-871a-7dc3fe198af3');\n",
              "          const dataTable =\n",
              "            await google.colab.kernel.invokeFunction('convertToInteractive',\n",
              "                                                     [key], {});\n",
              "          if (!dataTable) return;\n",
              "\n",
              "          const docLinkHtml = 'Like what you see? Visit the ' +\n",
              "            '<a target=\"_blank\" href=https://colab.research.google.com/notebooks/data_table.ipynb>data table notebook</a>'\n",
              "            + ' to learn more about interactive tables.';\n",
              "          element.innerHTML = '';\n",
              "          dataTable['output_type'] = 'display_data';\n",
              "          await google.colab.output.renderOutput(dataTable, element);\n",
              "          const docLink = document.createElement('div');\n",
              "          docLink.innerHTML = docLinkHtml;\n",
              "          element.appendChild(docLink);\n",
              "        }\n",
              "      </script>\n",
              "    </div>\n",
              "  </div>\n",
              "  "
            ],
            "text/plain": [
              "       SeniorCitizen       tenure  MonthlyCharges  TotalCharges\n",
              "count    7032.000000  7032.000000     7032.000000   7032.000000\n",
              "mean        0.162400    32.421786       64.798208   2283.300441\n",
              "std         0.368844    24.545260       30.085974   2266.771362\n",
              "min         0.000000     1.000000       18.250000     18.800000\n",
              "25%         0.000000     9.000000       35.587500    401.450000\n",
              "50%         0.000000    29.000000       70.350000   1397.475000\n",
              "75%         0.000000    55.000000       89.862500   3794.737500\n",
              "max         1.000000    72.000000      118.750000   8684.800000"
            ]
          },
          "metadata": {},
          "execution_count": 111
        }
      ]
    },
    {
      "cell_type": "code",
      "source": [
        "dataset.shape"
      ],
      "metadata": {
        "colab": {
          "base_uri": "https://localhost:8080/"
        },
        "id": "mmij87m-d2mx",
        "outputId": "0a894a99-d268-45ba-d19a-a3a1dd4d8ce6"
      },
      "execution_count": null,
      "outputs": [
        {
          "output_type": "execute_result",
          "data": {
            "text/plain": [
              "(7032, 21)"
            ]
          },
          "metadata": {},
          "execution_count": 112
        }
      ]
    },
    {
      "cell_type": "markdown",
      "source": [
        "*# Although Senior citizen is coming into numerical feature it is a categorical feature with values 0 and 1*"
      ],
      "metadata": {
        "id": "UTbgiM6MST10"
      }
    },
    {
      "cell_type": "code",
      "source": [
        "# checking for unique values and their counts in senior citizen features\n",
        "dataset['SeniorCitizen'].value_counts()"
      ],
      "metadata": {
        "colab": {
          "base_uri": "https://localhost:8080/"
        },
        "id": "ufid82hHShj9",
        "outputId": "fd14be10-2955-465f-9c88-54253cd4809a"
      },
      "execution_count": null,
      "outputs": [
        {
          "output_type": "execute_result",
          "data": {
            "text/plain": [
              "0    5890\n",
              "1    1142\n",
              "Name: SeniorCitizen, dtype: int64"
            ]
          },
          "metadata": {},
          "execution_count": 113
        }
      ]
    },
    {
      "cell_type": "markdown",
      "source": [
        "*# Now we are done with basic data cleaning process althouh techiques like outlier treatment hasn't done yet. We'look into it while moving forward. Now we will shift our focus to feature engineering and analysis*"
      ],
      "metadata": {
        "id": "uIV6CwjLTp0O"
      }
    },
    {
      "cell_type": "markdown",
      "source": [
        "# ***#Feature analysis and engineering***"
      ],
      "metadata": {
        "id": "V9sqBXXoUGy4"
      }
    },
    {
      "cell_type": "code",
      "source": [
        "#checking for number of unique values in dependent variable(i.e. is churn)\n",
        "dataset['Churn'].value_counts()"
      ],
      "metadata": {
        "colab": {
          "base_uri": "https://localhost:8080/"
        },
        "id": "MpJKNX00eZzc",
        "outputId": "650f8824-1ecd-4315-80f6-239a852cd85b"
      },
      "execution_count": null,
      "outputs": [
        {
          "output_type": "execute_result",
          "data": {
            "text/plain": [
              "No     5163\n",
              "Yes    1869\n",
              "Name: Churn, dtype: int64"
            ]
          },
          "metadata": {},
          "execution_count": 19
        }
      ]
    },
    {
      "cell_type": "markdown",
      "source": [
        "*# So we are with 1869 customers that has been churned and 5163 customers that are still not churned*"
      ],
      "metadata": {
        "id": "NttB0sHmRH49"
      }
    },
    {
      "cell_type": "code",
      "source": [
        "fig = plt.figure(figsize=(5,5))\n",
        "churn_counts = dataset['Churn'].value_counts()\n",
        "churn_counts.plot.pie(labels = churn_counts.index.values, autopct='%1.1f%%')\n",
        "plt.legend()"
      ],
      "metadata": {
        "colab": {
          "base_uri": "https://localhost:8080/",
          "height": 320
        },
        "id": "mS1R7Y0IeTSa",
        "outputId": "aa144e77-55b4-4ff8-8a18-8ad181e4e2f3"
      },
      "execution_count": null,
      "outputs": [
        {
          "output_type": "execute_result",
          "data": {
            "text/plain": [
              "<matplotlib.legend.Legend at 0x7f53b7473450>"
            ]
          },
          "metadata": {},
          "execution_count": 20
        },
        {
          "output_type": "display_data",
          "data": {
            "image/png": "[encoded data removed]",
            "text/plain": [
              "<Figure size 360x360 with 1 Axes>"
            ]
          },
          "metadata": {}
        }
      ]
    },
    {
      "cell_type": "markdown",
      "source": [
        "*# As Yes is 26.5 percent of total data it is not highly imbalanced class Thus, we can move forward*"
      ],
      "metadata": {
        "id": "z_dfycgafi7A"
      }
    },
    {
      "cell_type": "markdown",
      "source": [
        "# *Customer Identifier*"
      ],
      "metadata": {
        "id": "fMQau0T_i4eY"
      }
    },
    {
      "cell_type": "markdown",
      "source": [
        "As customer idenifier is just an unique id of each customer. So it wont be any helpful in our model building so we doent need to perform any kind of analysis over it "
      ],
      "metadata": {
        "id": "LEP66OKTjEMX"
      }
    },
    {
      "cell_type": "markdown",
      "source": [
        "#*Gender*"
      ],
      "metadata": {
        "id": "pOtTPpdsjdYt"
      }
    },
    {
      "cell_type": "code",
      "source": [
        "#checking for unique values and counts of feature\n",
        "dataset['gender'].value_counts()"
      ],
      "metadata": {
        "colab": {
          "base_uri": "https://localhost:8080/"
        },
        "id": "GNlv11hvpri3",
        "outputId": "dbccf1c8-60bf-4019-b93e-77ab709b37a8"
      },
      "execution_count": null,
      "outputs": [
        {
          "output_type": "execute_result",
          "data": {
            "text/plain": [
              "Male      3549\n",
              "Female    3483\n",
              "Name: gender, dtype: int64"
            ]
          },
          "metadata": {},
          "execution_count": 21
        }
      ]
    },
    {
      "cell_type": "code",
      "source": [
        " #checking if gender plays any significab=nt role in churning\n",
        "counts_male = dataset[dataset['gender']=='Male']['Churn'].value_counts().sort_index() \n",
        " #checking for churn rate in male and females\n",
        "counts_female = dataset[dataset['gender']=='Female']['Churn'].value_counts().sort_index()\n",
        "fig, ax = plt.subplots(2,2, figsize=(10,10))\n",
        "#barplots\n",
        "counts_male.plot.bar(ax = ax[0,0],color=['violet', 'cyan'])\n",
        "ax[0,0].set_title('Churn count in Male')\n",
        "ax[0,0].set(ylabel = 'count', xlabel='Churn')\n",
        "counts_female.plot.bar(ax = ax[0,1],color=['violet', 'cyan'])\n",
        "ax[0,1].set_title('Churn count in Female')\n",
        "ax[0,1].set(ylabel = 'count', xlabel='Churn')\n",
        "#pie plots\n",
        "counts_male.plot.pie(ax = ax[1,0],labels=counts_male.index.values, autopct = '%1.1f%%')\n",
        "ax[1,0].set_title('Percentages of churn in male')\n",
        "ax[1,0].legend()\n",
        "counts_female.plot.pie(ax = ax[1,1],labels=counts_female.index.values, autopct = '%1.1f%%')\n",
        "ax[1,1].set_title('Percentages of churn in female')\n",
        "ax[1,1].legend()\n",
        "fig.tight_layout()"
      ],
      "metadata": {
        "colab": {
          "base_uri": "https://localhost:8080/",
          "height": 723
        },
        "id": "dRGqG_Zkj6UC",
        "outputId": "cdb76237-51fd-4bee-a0b0-073a974f56c3"
      },
      "execution_count": null,
      "outputs": [
        {
          "output_type": "display_data",
          "data": {
            "image/png": "[encoded data removed]",
            "text/plain": [
              "<Figure size 720x720 with 4 Axes>"
            ]
          },
          "metadata": {
            "needs_background": "light"
          }
        }
      ]
    },
    {
      "cell_type": "markdown",
      "source": [
        "*# So here with the help of bar and pie we can visualize both percentage and counts of specifics(male and female) is same for churned or not churned. So we can conclude from this that gender doest impact our churn rate much* "
      ],
      "metadata": {
        "id": "9KnOzFyRwhoE"
      }
    },
    {
      "cell_type": "markdown",
      "source": [
        "# *Senior Citizens*"
      ],
      "metadata": {
        "id": "Nrqh3ZvpynOh"
      }
    },
    {
      "cell_type": "code",
      "source": [
        "#checking for unique values and counts of feature\n",
        "dataset['SeniorCitizen'].value_counts()"
      ],
      "metadata": {
        "colab": {
          "base_uri": "https://localhost:8080/"
        },
        "id": "ydl1RrR8p8W_",
        "outputId": "2b8086c3-e115-4c45-e835-a4b595430ec4"
      },
      "execution_count": null,
      "outputs": [
        {
          "output_type": "execute_result",
          "data": {
            "text/plain": [
              "0    5890\n",
              "1    1142\n",
              "Name: SeniorCitizen, dtype: int64"
            ]
          },
          "metadata": {},
          "execution_count": 23
        }
      ]
    },
    {
      "cell_type": "code",
      "source": [
        " #checking if senior citizens have high churning rate\n",
        " #segregating senior citizen\n",
        "counts_senior = dataset[dataset['SeniorCitizen']==1]['Churn'].value_counts().sort_index() \n",
        "#segregating non senior citizens\n",
        "counts_nonsenior = dataset[dataset['SeniorCitizen']==0]['Churn'].value_counts().sort_index()\n",
        "fig, ax = plt.subplots(2,2, figsize=(14,10))\n",
        "#barplots\n",
        "counts_senior.plot.bar(ax = ax[0,0],color=['violet', 'cyan'])\n",
        "ax[0,0].set_title('Churn and Non churn counts in Seniors')\n",
        "ax[0,0].set(ylabel = 'counts', xlabel='churn')\n",
        "counts_nonsenior.plot.bar(ax = ax[0,1],color=['violet', 'cyan'])\n",
        "ax[0,1].set_title('Churn and Non churn counts in Non Seniors')\n",
        "ax[0,1].set(ylabel = 'counts', xlabel='churn')\n",
        "#pieplots\n",
        "counts_senior.plot.pie(ax = ax[1,0], autopct = '%1.1f%%')\n",
        "ax[1,0].set_title('%age of churn and Non churn in seniors')\n",
        "counts_nonsenior.plot.pie(ax = ax[1,1],autopct = '%1.1f%%')\n",
        "ax[1,1].set_title('%age of churn and Non churn in non seniors')\n",
        "ax[1,0].legend()\n",
        "ax[1,1].legend()\n",
        "fig.tight_layout()"
      ],
      "metadata": {
        "colab": {
          "base_uri": "https://localhost:8080/",
          "height": 729
        },
        "id": "tDPmB_QpyeOe",
        "outputId": "ba546da0-2231-4652-92fe-7259e64e1039"
      },
      "execution_count": null,
      "outputs": [
        {
          "output_type": "display_data",
          "data": {
            "image/png": "[encoded data removed]",
            "text/plain": [
              "<Figure size 1008x720 with 4 Axes>"
            ]
          },
          "metadata": {
            "needs_background": "light"
          }
        }
      ]
    },
    {
      "cell_type": "markdown",
      "source": [
        "*From the above visualisation we can say that on an average churning rate is higher in Senior Citizens*"
      ],
      "metadata": {
        "id": "MQXSyIJg88Xs"
      }
    },
    {
      "cell_type": "markdown",
      "source": [
        "# *Partner*"
      ],
      "metadata": {
        "id": "yPcwYxil9a29"
      }
    },
    {
      "cell_type": "code",
      "source": [
        "#checking for unique values and counts of feature\n",
        "dataset['Partner'].value_counts()"
      ],
      "metadata": {
        "colab": {
          "base_uri": "https://localhost:8080/"
        },
        "id": "KJ0GSY6NqLn1",
        "outputId": "df866fe2-5012-4eb1-dd0c-60d97fc8e447"
      },
      "execution_count": null,
      "outputs": [
        {
          "output_type": "execute_result",
          "data": {
            "text/plain": [
              "No     3639\n",
              "Yes    3393\n",
              "Name: Partner, dtype: int64"
            ]
          },
          "metadata": {},
          "execution_count": 25
        }
      ]
    },
    {
      "cell_type": "code",
      "source": [
        " #checking if single churns the most or one having partner\n",
        "#segregating customer with partners\n",
        "counts_partner = dataset[dataset['Partner']==\"Yes\"]['Churn'].value_counts().sort_index() \n",
        "#segregating customer having no partners\n",
        "counts_nopartner = dataset[dataset['Partner']==\"No\"]['Churn'].value_counts().sort_index()\n",
        "fig, ax = plt.subplots(2,2, figsize=(14,10))\n",
        "#barplots\n",
        "counts_partner.plot.bar(ax = ax[0,0],color=['violet', 'cyan'])\n",
        "ax[0,0].set_title('Churn and Non churn counts for who have partner')\n",
        "ax[0,0].set(ylabel = 'counts', xlabel='churn')\n",
        "counts_nopartner.plot.bar(ax = ax[0,1],color=['violet', 'cyan'])\n",
        "ax[0,1].set_title('Churn and Non churn counts for who doesn\\'t have partner')\n",
        "ax[0,1].set(ylabel = 'counts', xlabel='churn')\n",
        "#pieplots\n",
        "counts_partner.plot.pie(ax = ax[1,0], autopct = '%1.1f%%')\n",
        "ax[1,0].set_title('Churn and Non churn %age for who have partner')\n",
        "counts_nopartner.plot.pie(ax = ax[1,1],autopct = '%1.1f%%')\n",
        "ax[1,1].set_title('Churn and Non churn %age for those who doesn\\'t have partner')\n",
        "ax[1,0].legend()\n",
        "ax[1,1].legend()\n",
        "fig.tight_layout()"
      ],
      "metadata": {
        "colab": {
          "base_uri": "https://localhost:8080/",
          "height": 729
        },
        "id": "nXPA6-2Z_GTu",
        "outputId": "4979c2e7-a3ba-4a76-c3fa-07fab9219238"
      },
      "execution_count": null,
      "outputs": [
        {
          "output_type": "display_data",
          "data": {
            "image/png": "[encoded data removed]",
            "text/plain": [
              "<Figure size 1008x720 with 4 Axes>"
            ]
          },
          "metadata": {
            "needs_background": "light"
          }
        }
      ]
    },
    {
      "cell_type": "markdown",
      "source": [
        "*From the visualization and counts we can see that customers with partner plan have lower chances to churn as compare to those who doesn't opt for partner plans*"
      ],
      "metadata": {
        "id": "lLHlyI35Au4S"
      }
    },
    {
      "cell_type": "markdown",
      "source": [
        "# *Dependents*"
      ],
      "metadata": {
        "id": "4jOlkWe-BuRY"
      }
    },
    {
      "cell_type": "code",
      "source": [
        "#checking for unique values and counts for feature\n",
        "dataset['Dependents'].value_counts()"
      ],
      "metadata": {
        "colab": {
          "base_uri": "https://localhost:8080/"
        },
        "id": "hD8E3ddEqSE9",
        "outputId": "fd9a71f7-c79e-44ec-efeb-1a2a7c909bd2"
      },
      "execution_count": null,
      "outputs": [
        {
          "output_type": "execute_result",
          "data": {
            "text/plain": [
              "No     4933\n",
              "Yes    2099\n",
              "Name: Dependents, dtype: int64"
            ]
          },
          "metadata": {},
          "execution_count": 27
        }
      ]
    },
    {
      "cell_type": "code",
      "source": [
        " #checking if one with dependents usually churns or a one whith no dependents\n",
        "#segregating customer that have dependents\n",
        "counts_dependency = dataset[dataset['Dependents']==\"Yes\"]['Churn'].value_counts().sort_index() \n",
        "#segregating customer that doesn't have dependents \n",
        "counts_nondependency = dataset[dataset['Dependents']==\"No\"]['Churn'].value_counts().sort_index()\n",
        "fig, ax = plt.subplots(2,2, figsize=(14,10))\n",
        "#barplots\n",
        "counts_dependency.plot.bar(ax = ax[0,0],color=['violet', 'cyan'])\n",
        "ax[0,0].set_title('Churn and Non churn counts for dependency with yes')\n",
        "ax[0,0].set(ylabel = 'counts', xlabel='churn')\n",
        "counts_nondependency.plot.bar(ax = ax[0,1],color=['violet', 'cyan'])\n",
        "ax[0,1].set_title('Churn and Non churn counts for dependency with no')\n",
        "ax[0,1].set(ylabel = 'counts', xlabel='churn')\n",
        "#pieplots\n",
        "counts_dependency.plot.pie(ax = ax[1,0], autopct = '%1.1f%%')\n",
        "ax[1,0].set_title('Churn and Non churn %age for dependency with yes')\n",
        "counts_nondependency.plot.pie(ax = ax[1,1],autopct = '%1.1f%%')\n",
        "ax[1,1].set_title('Churn and Non churn %age for dependency with no')\n",
        "ax[1,0].legend()\n",
        "ax[1,1].legend()\n",
        "fig.tight_layout()"
      ],
      "metadata": {
        "colab": {
          "base_uri": "https://localhost:8080/",
          "height": 729
        },
        "id": "BeOCwTEJBtf5",
        "outputId": "37001a28-7469-4122-cbbc-a556918ff2c0"
      },
      "execution_count": null,
      "outputs": [
        {
          "output_type": "display_data",
          "data": {
            "image/png": "[encoded data removed]",
            "text/plain": [
              "<Figure size 1008x720 with 4 Axes>"
            ]
          },
          "metadata": {
            "needs_background": "light"
          }
        }
      ]
    },
    {
      "cell_type": "markdown",
      "source": [
        "*# Churn rate is higher in ones having dependent value as no*"
      ],
      "metadata": {
        "id": "40fMsFMXC4EK"
      }
    },
    {
      "cell_type": "markdown",
      "source": [
        "# *Phone Services*"
      ],
      "metadata": {
        "id": "bPH57dYuDB_L"
      }
    },
    {
      "cell_type": "code",
      "source": [
        "#checking for unique values and counts for feature\n",
        "dataset['PhoneService'].value_counts()"
      ],
      "metadata": {
        "colab": {
          "base_uri": "https://localhost:8080/"
        },
        "id": "GxCrHtNvqdWc",
        "outputId": "28479ac2-1d43-40f0-88ce-bf2dbe2ea104"
      },
      "execution_count": null,
      "outputs": [
        {
          "output_type": "execute_result",
          "data": {
            "text/plain": [
              "Yes    6352\n",
              "No      680\n",
              "Name: PhoneService, dtype: int64"
            ]
          },
          "metadata": {},
          "execution_count": 29
        }
      ]
    },
    {
      "cell_type": "code",
      "source": [
        " #checking for churn rate among cutomers who also have phone service along with internet service\n",
        "counts_phnsrvice = dataset[dataset['PhoneService']==\"Yes\"]['Churn'].value_counts().sort_index() \n",
        "counts_nophnsrvice = dataset[dataset['PhoneService']==\"No\"]['Churn'].value_counts().sort_index()\n",
        "fig, ax = plt.subplots(2,2, figsize=(14,10))\n",
        "#barplots\n",
        "counts_phnsrvice.plot.bar(ax = ax[0,0],color=['violet', 'cyan'])\n",
        "ax[0,0].set_title('Churn and Non churn counts for customers having phone service')\n",
        "ax[0,0].set(ylabel = 'counts', xlabel='churn')\n",
        "counts_nophnsrvice.plot.bar(ax = ax[0,1],color=['violet', 'cyan'])\n",
        "ax[0,1].set_title('Churn and Non churn counts for customers not having phone service')\n",
        "ax[0,1].set(ylabel = 'counts', xlabel='churn')\n",
        "#pieplots\n",
        "counts_phnsrvice.plot.pie(ax = ax[1,0], autopct = '%1.1f%%')\n",
        "ax[1,0].set_title('Churn and Non churn %age for customers having phone service')\n",
        "counts_nophnsrvice.plot.pie(ax = ax[1,1],autopct = '%1.1f%%')\n",
        "ax[1,1].set_title('Churn and Non churn %age for customers not having phone service')\n",
        "ax[1,0].legend()\n",
        "ax[1,1].legend()\n",
        "fig.tight_layout()"
      ],
      "metadata": {
        "colab": {
          "base_uri": "https://localhost:8080/",
          "height": 729
        },
        "id": "O3svejA1DyH3",
        "outputId": "cc16f680-7792-4e58-c0b6-dafcef3923cd"
      },
      "execution_count": null,
      "outputs": [
        {
          "output_type": "display_data",
          "data": {
            "image/png": "[encoded data removed]",
            "text/plain": [
              "<Figure size 1008x720 with 4 Axes>"
            ]
          },
          "metadata": {
            "needs_background": "light"
          }
        }
      ]
    },
    {
      "cell_type": "markdown",
      "source": [
        "*Phone service doesnt seems to be have any effect on churn rate*"
      ],
      "metadata": {
        "id": "mCHBc37OBBzl"
      }
    },
    {
      "cell_type": "markdown",
      "source": [
        "# ***Online Security***"
      ],
      "metadata": {
        "id": "lpKAHWNFCNeX"
      }
    },
    {
      "cell_type": "code",
      "source": [
        "#checking for unique values and counts for feature\n",
        "dataset['OnlineSecurity'].value_counts()"
      ],
      "metadata": {
        "colab": {
          "base_uri": "https://localhost:8080/"
        },
        "id": "KhmtyizHqtZb",
        "outputId": "c37ccb8b-c643-439c-eca1-cfe0e31cb694"
      },
      "execution_count": null,
      "outputs": [
        {
          "output_type": "execute_result",
          "data": {
            "text/plain": [
              "No                     3497\n",
              "Yes                    2015\n",
              "No internet service    1520\n",
              "Name: OnlineSecurity, dtype: int64"
            ]
          },
          "metadata": {},
          "execution_count": 31
        }
      ]
    },
    {
      "cell_type": "markdown",
      "source": [
        "*Although we have 3 different values we'll only look for 2 (yes or no) because we want to analyse when user have an opportunity to opt for online security what was the churn rate among those who choose online security and who didn't. And also feature No internet service will be covered or investigated later under Internet services features.*\n",
        "\n",
        "*Note - Same is true for upcoming 3 or 4 features*"
      ],
      "metadata": {
        "id": "zlNbiMVoqygx"
      }
    },
    {
      "cell_type": "code",
      "source": [
        " #checking for churn rate among cutomers who have opted for online services and one who haven't\n",
        "counts_sec_yes = dataset[dataset['OnlineSecurity']==\"Yes\"]['Churn'].value_counts().sort_index() \n",
        "counts_sec_no = dataset[dataset['OnlineSecurity']==\"No\"]['Churn'].value_counts().sort_index()\n",
        "fig, ax = plt.subplots(2,2, figsize=(14,10))\n",
        "#barplots\n",
        "counts_sec_yes.plot.bar(ax = ax[0,0],color=['violet', 'cyan'])\n",
        "ax[0,0].set_title('Churn and Non churn counts for customers opted online security')\n",
        "ax[0,0].set(ylabel = 'counts', xlabel='churn')\n",
        "counts_sec_no.plot.bar(ax = ax[0,1],color=['violet', 'cyan'])\n",
        "ax[0,1].set_title('Churn and Non churn counts for customers not opted online security')\n",
        "ax[0,1].set(ylabel = 'counts', xlabel='churn')\n",
        "#pieplots\n",
        "counts_sec_yes.plot.pie(ax = ax[1,0], autopct = '%1.1f%%')\n",
        "ax[1,0].set_title('Churn and Non churn %age for customers opted online security')\n",
        "counts_sec_no.plot.pie(ax = ax[1,1],autopct = '%1.1f%%')\n",
        "ax[1,1].set_title('Churn and Non churn %age for customers not opted online security')\n",
        "ax[1,0].legend()\n",
        "ax[1,1].legend()\n",
        "fig.tight_layout()"
      ],
      "metadata": {
        "colab": {
          "base_uri": "https://localhost:8080/",
          "height": 729
        },
        "id": "dXgssZx8CZxb",
        "outputId": "962dfb8d-1ef9-4875-8115-5b412a3d98d2"
      },
      "execution_count": null,
      "outputs": [
        {
          "output_type": "display_data",
          "data": {
            "image/png": "[encoded data removed]",
            "text/plain": [
              "<Figure size 1008x720 with 4 Axes>"
            ]
          },
          "metadata": {
            "needs_background": "light"
          }
        }
      ]
    },
    {
      "cell_type": "markdown",
      "source": [
        "*Customers who haven't opted for online security has bit higher possibility of churn as compare to one who have opted*"
      ],
      "metadata": {
        "id": "QeH3-NZODeuK"
      }
    }
  ]
}